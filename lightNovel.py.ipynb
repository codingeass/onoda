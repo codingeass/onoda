{
 "cells": [
  {
   "cell_type": "code",
   "execution_count": 120,
   "metadata": {
    "collapsed": false
   },
   "outputs": [
    {
     "name": "stdout",
     "output_type": "stream",
     "text": [
      "/home/amandeep/Documents/Application\n"
     ]
    }
   ],
   "source": [
    "import requests\n",
    "from bs4 import BeautifulSoup\n",
    "from reportlab.lib.pagesizes import A4\n",
    "from reportlab.platypus import SimpleDocTemplate, Paragraph\n",
    "from reportlab.platypus import BaseDocTemplate\n",
    "from reportlab.lib.styles import getSampleStyleSheet\n",
    "import sys\n",
    "sys.path.append('/home/amandeep/Documents/Application/application/lib/python3.5/site-packages')\n",
    "import os\n",
    "print(os.getcwd() )\n",
    "\n",
    "def Chapter(url,textToPdf,chapterTitle):\n",
    "    r=requests.get(url)\n",
    "    #print(requests.get(url))\n",
    "    #print(r.text)\n",
    "    #print(soup.select(\"kmk=vfkmv div\"))\n",
    "    headerCheck=0\n",
    "    nexturlCheck=0\n",
    "    s = \"\"\n",
    "\n",
    "    soup = BeautifulSoup(r.text, 'lxml')\n",
    "    for divChapter in soup.findAll(\"div\",{\"itemprop\":\"articleBody\"}):\n",
    "        for parChapter in divChapter.findAll(\"p\"):\n",
    "            if \"Previous Chapter\" not in parChapter.text and \"Next Chapter\" not in parChapter.text: #Can change this with regex\n",
    "                if headerCheck==0:\n",
    "                    chapterTitle.append(parChapter.text)\n",
    "                    textToPdf.append(Paragraph('<strong>%s</strong>' % (parChapter.text,), styles[\"BodyText\"]))\n",
    "                    s+=str(TitleChapter)\n",
    "                    s+='\\n'\n",
    "                    #print(TitleChapter)\n",
    "                    #print('_________________________________________________')\n",
    "                    textToPdf.append(Paragraph('_________________________________________________', styles[\"Normal\"]))\n",
    "                    textToPdf.append(Paragraph('<br/>', styles[\"BodyText\"]))\n",
    "                    textToPdf.append(Paragraph('<br/>', styles[\"BodyText\"]))\n",
    "                    print('')\n",
    "                    headerCheck=1\n",
    "\n",
    "                else:\n",
    "                    textToPdf.append(Paragraph(parChapter.text, styles[\"Normal\"]))\n",
    "\n",
    "                    textToPdf.append(Paragraph('<br/>', styles[\"BodyText\"]))\n",
    "                    s+=str(parChapter)\n",
    "                    #print(parChapter)\n",
    "            else:\n",
    "                for urlChapter in parChapter.find_all('a', href=True):\n",
    "                    if urlChapter.text==\"Next Chapter\":\n",
    "                        print(urlChapter['href'])\n",
    "                        nextUrl=urlChapter['href']\n",
    "        #print d.a.get(\"data-name\")\n",
    "        #print d.select(\"a.results\")\n",
    "    \n",
    "\n",
    "#Story.append(Paragraph('_________________________________________________', styles[\"Normal\"]))\n",
    "#doc.build(Story)"
   ]
  },
  {
   "cell_type": "code",
   "execution_count": 129,
   "metadata": {
    "collapsed": false
   },
   "outputs": [],
   "source": [
    "'''\n",
    "Function to loop through all pages\n",
    "'''\n",
    "def ChaptersAdd(url,ChapterContent,firstChapter,lastChapter):\n",
    "    currentChapter=firstChapter\n",
    "    while currentChapter <= lastChapter:\n",
    "        chapterTitle=[]\n",
    "        urlChapter = '%s-%s/'%(url,currentChapter)\n",
    "        Chapter(urlChapter,Story,chapterTitle)\n",
    "        Story.append(PageBreak())\n",
    "        currentChapter+=1"
   ]
  },
  {
   "cell_type": "code",
   "execution_count": 37,
   "metadata": {
    "collapsed": false
   },
   "outputs": [],
   "source": [
    "from reportlab.pdfgen import canvas\n",
    "\n",
    "def hello(c):()\n",
    "    c.drawString(100,100,\"Hello World\")\n",
    "c = canvas.Canvas(\"hello.pdf\")\n",
    "hello(c)\n",
    "\n",
    "from reportlab.lib.units import inch\n",
    "c.drawString( 20,500, s)\n",
    "\n",
    "#textobject=canvas.beginText(canvas,0,0)\n",
    "textobject = c.beginText(400,500)\n",
    "textobject.setTextOrigin(inch, 2.5*inch)\n",
    "textobject.setFont(\"Helvetica-Oblique\", 14)\n",
    "textobject.textLines('With many apologies to the Beach Boysand anyone else who finds this objectionable')\n",
    "c.drawText(textobject)\n",
    "c.showPage()\n",
    "c.save()"
   ]
  },
  {
   "cell_type": "code",
   "execution_count": 57,
   "metadata": {
    "collapsed": false
   },
   "outputs": [],
   "source": [
    "from reportlab.lib.pagesizes import A4\n",
    "from reportlab.platypus import SimpleDocTemplate, Paragraph\n",
    "from reportlab.lib.styles import getSampleStyleSheet\n",
    "\n",
    "very_long_text = \"Your very long text here ...\"\n",
    "\n",
    "\n",
    "styles = getSampleStyleSheet()\n",
    "doc = SimpleDocTemplate(\"my_doc.pdf\", pagesize=A4)\n",
    "Story=[]\n",
    "Story.append(Paragraph(very_long_text, styles[\"BodyText\"]))\n",
    "doc.build(Story)"
   ]
  },
  {
   "cell_type": "code",
   "execution_count": 130,
   "metadata": {
    "collapsed": false
   },
   "outputs": [
    {
     "name": "stdout",
     "output_type": "stream",
     "text": [
      "http://www.wuxiaworld.com/rmji-index/rmji-chapter-2\n",
      "\n",
      "http://www.wuxiaworld.com/rmji-index/rmji-chapter-2\n",
      "http://www.wuxiaworld.com/rmji-index/rmji-chapter-3\n",
      "\n",
      "http://www.wuxiaworld.com/rmji-index/rmji-chapter-3\n",
      "http://www.wuxiaworld.com/rmji-index/rmji-chapter-4\n",
      "\n",
      "http://www.wuxiaworld.com/rmji-index/rmji-chapter-4\n"
     ]
    }
   ],
   "source": [
    "from reportlab.pdfgen import canvas\n",
    "from reportlab.platypus import (SimpleDocTemplate, Paragraph, PageBreak)\n",
    "from reportlab.lib.styles import getSampleStyleSheet\n",
    "from reportlab.lib.pagesizes import A4\n",
    "\n",
    "\n",
    "class FooterCanvas(canvas.Canvas):\n",
    "    '''\n",
    "     Juan Fco. Roco Author\n",
    "     http://stackoverflow.com/questions/28281108/reportlab-how-to-add-a-footer-to-a-pdf-file\n",
    "     Edited : To add title/chapter name\n",
    "    '''\n",
    "    def __init__(self, *args, **kwargs):\n",
    "        canvas.Canvas.__init__(self, *args, **kwargs)\n",
    "        self.pages = []\n",
    "        #self.chapterTitle=[]\n",
    "\n",
    "    def showPage(self):\n",
    "        self.pages.append(dict(self.__dict__))\n",
    "        self._startPage()\n",
    "\n",
    "    def save(self):\n",
    "        page_count = len(self.pages)\n",
    "        for page in self.pages:\n",
    "            self.__dict__.update(page)\n",
    "            self.draw_canvas(page_count)\n",
    "            canvas.Canvas.showPage(self)\n",
    "        canvas.Canvas.save(self)\n",
    "\n",
    "    def draw_canvas(self, page_count):\n",
    "        page = \"Page %s of %s\" % (self._pageNumber, page_count)\n",
    "        x = 128\n",
    "        self.saveState()\n",
    "        self.setStrokeColorRGB(0, 0, 0)\n",
    "        self.setLineWidth(0.5)\n",
    "        self.line(66, 78, A4[0] - 66, 78)\n",
    "        self.setFont('Times-Roman', 10)\n",
    "        self.drawString(LETTER[0]-x, 65, page)\n",
    "        self.drawString(x, 65, self.title)\n",
    "        self.restoreState()\n",
    "\n",
    "\n",
    "if __name__ == '__main__':\n",
    "\n",
    "    #Story.append(PageBreak())\n",
    "    \n",
    "    \n",
    "    url = 'http://www.wuxiaworld.com/rmji-index/rmji-chapter-'\n",
    "    styles = getSampleStyleSheet()\n",
    "    doc = SimpleDocTemplate(\"my_doc.pdf\", pagesize=A4)\n",
    "    Story=[]\n",
    "    chapterTitle=[]\n",
    "    ChaptersAdd(url,Story,1,3)\n",
    "    #doc.onLaterPages='hello'\n",
    "    #doc.build(Story)\n",
    "    \n",
    "    # Build\n",
    "    #doc = SimpleDocTemplate(\"my_doc.pdf\", pagesize=LETTER)\n",
    "    canvasmaker=FooterCanvas\n",
    "    \n",
    "    #canvasmaker=FooterCanvas\n",
    "    #canvasmaker.title=chapterTitle\n",
    "    footer=FooterCanvas\n",
    "    footer.title='A Record of a Mortal’s Journey to Immortality'\n",
    "    doc.multiBuild(Story,canvasmaker=footer)"
   ]
  },
  {
   "cell_type": "markdown",
   "metadata": {},
   "source": [
    "Issues :\n",
    "    1. Add Regex for Next Chapter and Previous Chapter\n",
    "    2. Chapter Ending Check for lastChapter ChaptersAdd"
   ]
  }
 ],
 "metadata": {
  "kernelspec": {
   "display_name": "Python 3",
   "language": "python",
   "name": "python3"
  },
  "language_info": {
   "codemirror_mode": {
    "name": "ipython",
    "version": 3
   },
   "file_extension": ".py",
   "mimetype": "text/x-python",
   "name": "python",
   "nbconvert_exporter": "python",
   "pygments_lexer": "ipython3",
   "version": "3.5.2"
  }
 },
 "nbformat": 4,
 "nbformat_minor": 0
}
